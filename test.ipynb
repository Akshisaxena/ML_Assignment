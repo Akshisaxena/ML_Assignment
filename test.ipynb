{
 "cells": [
  {
   "cell_type": "code",
   "execution_count": 1,
   "metadata": {},
   "outputs": [],
   "source": [
    "#Imports\n",
    "import pandas as pd\n",
    "import matplotlib.pyplot as plt\n",
    "from sklearn.tree import DecisionTreeClassifier\n",
    "from sklearn.naive_bayes import GaussianNB\n",
    "from sklearn.svm import SVC\n",
    "from sklearn.linear_model import LogisticRegression\n",
    "from sklearn.decomposition import PCA\n",
    "from sklearn.ensemble import RandomForestClassifier\n",
    "from sklearn import preprocessing\n",
    "from sklearn.metrics import accuracy_score\n",
    "from sklearn.metrics import f1_score"
   ]
  },
  {
   "cell_type": "code",
   "execution_count": 2,
   "metadata": {},
   "outputs": [],
   "source": [
    "#Loading the testing and training data\n",
    "test_data = pd.read_csv('data/Testing.csv')\n",
    "train_data = pd.read_csv('data/Training.csv')"
   ]
  },
  {
   "cell_type": "code",
   "execution_count": 3,
   "metadata": {},
   "outputs": [
    {
     "data": {
      "text/plain": [
       "(4920, 134)"
      ]
     },
     "execution_count": 3,
     "metadata": {},
     "output_type": "execute_result"
    }
   ],
   "source": [
    "# view dimensions of dataset\n",
    "train_data.shape"
   ]
  },
  {
   "cell_type": "code",
   "execution_count": 4,
   "metadata": {},
   "outputs": [],
   "source": [
    "#Cleaning training data\n",
    "x = train_data.drop(['prognosis','Unnamed: 133'], axis=1)\n",
    "y = train_data['prognosis']"
   ]
  },
  {
   "cell_type": "code",
   "execution_count": 5,
   "metadata": {},
   "outputs": [],
   "source": [
    "#Cleaning testing data\n",
    "x_test = test_data.drop(['prognosis'], axis=1)\n",
    "y_test = test_data['prognosis']"
   ]
  },
  {
   "cell_type": "code",
   "execution_count": 6,
   "metadata": {},
   "outputs": [
    {
     "data": {
      "text/plain": [
       "1.0"
      ]
     },
     "execution_count": 6,
     "metadata": {},
     "output_type": "execute_result"
    }
   ],
   "source": [
    "#Logistic Regression\n",
    "LRmodel = LogisticRegression()\n",
    "LRmodel.fit(x,y)\n",
    "LRmodel.score(x_test,y_test)"
   ]
  },
  {
   "cell_type": "code",
   "execution_count": 7,
   "metadata": {},
   "outputs": [
    {
     "data": {
      "text/plain": [
       "0.9761904761904762"
      ]
     },
     "execution_count": 7,
     "metadata": {},
     "output_type": "execute_result"
    }
   ],
   "source": [
    "#Decision Tree Classifier\n",
    "DCmodel = DecisionTreeClassifier()\n",
    "DCmodel.fit(x,y)\n",
    "DCmodel.score(x_test,y_test)"
   ]
  },
  {
   "cell_type": "code",
   "execution_count": 8,
   "metadata": {},
   "outputs": [
    {
     "data": {
      "text/plain": [
       "1.0"
      ]
     },
     "execution_count": 8,
     "metadata": {},
     "output_type": "execute_result"
    }
   ],
   "source": [
    "#Naive Bayers Classifier\n",
    "NBmodel = GaussianNB()\n",
    "NBmodel.fit(x,y)\n",
    "NBmodel.score(x_test,y_test)"
   ]
  },
  {
   "cell_type": "code",
   "execution_count": 9,
   "metadata": {},
   "outputs": [
    {
     "data": {
      "text/plain": [
       "1.0"
      ]
     },
     "execution_count": 9,
     "metadata": {},
     "output_type": "execute_result"
    }
   ],
   "source": [
    "#Support Vectors\n",
    "SVmodel = SVC(kernel='linear', C=1)\n",
    "SVmodel.fit(x,y)\n",
    "SVmodel.score(x_test,y_test)"
   ]
  },
  {
   "cell_type": "code",
   "execution_count": 10,
   "metadata": {},
   "outputs": [
    {
     "data": {
      "text/plain": [
       "1.0"
      ]
     },
     "execution_count": 10,
     "metadata": {},
     "output_type": "execute_result"
    }
   ],
   "source": [
    "#Softmax Classifier\n",
    "SCmodel = LogisticRegression(random_state=0, multi_class='multinomial', max_iter=1000)\n",
    "SCmodel.fit(x,y)\n",
    "SCmodel.score(x_test,y_test)"
   ]
  },
  {
   "cell_type": "code",
   "execution_count": null,
   "metadata": {},
   "outputs": [],
   "source": [
    "# PCA \n",
    "LR_list = []\n",
    "DC_list = []\n",
    "NB_list = []\n",
    "SV_list = []\n",
    "SC_list = []\n",
    "features = []\n",
    "for i in range(131):\n",
    "    pca = PCA(n_components=(i+1))\n",
    "    x_pca = pca.fit_transform(x)\n",
    "    x_test_pca = pca.transform(x_test)\n",
    "    LRmodel.fit(x_pca, y)\n",
    "    DCmodel.fit(x_pca, y)\n",
    "    NBmodel.fit(x_pca, y)\n",
    "    SVmodel.fit(x_pca, y)\n",
    "    SCmodel.fit(x_pca, y)\n",
    "\n",
    "    LR_list.append(accuracy_score(y_test, LRmodel.predict(x_test_pca))*100)\n",
    "    DC_list.append(accuracy_score(y_test, DCmodel.predict(x_test_pca))*100)\n",
    "    NB_list.append(accuracy_score(y_test, NBmodel.predict(x_test_pca))*100)\n",
    "    SV_list.append(accuracy_score(y_test, SVmodel.predict(x_test_pca))*100)\n",
    "    SC_list.append(accuracy_score(y_test, SCmodel.predict(x_test_pca))*100)\n",
    "    features.append(i+1)"
   ]
  },
  {
   "cell_type": "code",
   "execution_count": 12,
   "metadata": {},
   "outputs": [
    {
     "data": {
      "image/png": "[encoded data removed]",
      "text/plain": [
       "<Figure size 432x288 with 1 Axes>"
      ]
     },
     "metadata": {
      "needs_background": "light"
     },
     "output_type": "display_data"
    }
   ],
   "source": [
    "#Plotting\n",
    "plt.plot(features, LR_list, color='r', label='Logistic Regression')\n",
    "plt.plot(features, DC_list, color='g', label='Decision Tree Classifier')\n",
    "plt.plot(features, NB_list, color='b', label='Naive Bayers Classifier')\n",
    "plt.plot(features, SC_list, color='y', label='Softmax Classifier')\n",
    "plt.plot(features, SV_list, color='b', label='Support Vectors')\n",
    "plt.xlabel(\"features\")\n",
    "plt.ylabel(\"accuracy\")\n",
    "plt.title(\"features vs accuracy\")\n",
    "\n",
    "plt.legend()\n",
    "\n",
    "plt.show()"
   ]
  },
  {
   "cell_type": "code",
   "execution_count": 13,
   "metadata": {},
   "outputs": [
    {
     "data": {
      "text/plain": [
       "97.61904761904762"
      ]
     },
     "execution_count": 13,
     "metadata": {},
     "output_type": "execute_result"
    }
   ],
   "source": [
    "#Random Forest\n",
    "rf = RandomForestClassifier(random_state=0)\n",
    "rf.fit(x,y)\n",
    "accuracy_score(y_test, rf.predict(x_test))*100"
   ]
  },
  {
   "cell_type": "code",
   "execution_count": 14,
   "metadata": {},
   "outputs": [],
   "source": [
    "#Tuning max_depth\n",
    "performance_max_depth = []\n",
    "max_depth = []\n",
    "for i in range(15):\n",
    "    rf_md = RandomForestClassifier(random_state=0, max_depth=(i+1))\n",
    "    rf_md.fit(x,y)\n",
    "    performance_max_depth.append(f1_score(y_test, rf_md.predict(x_test), average='micro'))\n",
    "    max_depth.append((i+1))\n"
   ]
  },
  {
   "cell_type": "code",
   "execution_count": 15,
   "metadata": {},
   "outputs": [
    {
     "data": {
      "image/png": "[encoded data removed]",
      "text/plain": [
       "<Figure size 432x288 with 1 Axes>"
      ]
     },
     "metadata": {
      "needs_background": "light"
     },
     "output_type": "display_data"
    }
   ],
   "source": [
    "#Plotting the corresponding graph\n",
    "plt.plot(max_depth, performance_max_depth)\n",
    "plt.xlabel(\"max depth\")\n",
    "plt.ylabel(\"f1 score\")\n",
    "plt.title(\"Tuning Max Depth\")\n",
    "plt.show()"
   ]
  },
  {
   "cell_type": "code",
   "execution_count": null,
   "metadata": {},
   "outputs": [],
   "source": [
    "#Tuning criterion\n",
    "performance_criterion = []\n",
    "criterion = ['gini', 'entropy', 'log_loss']\n",
    "\n",
    "for i in range(3):\n",
    "    rf_c = RandomForestClassifier(random_state=0, criterion = criterion[i])\n",
    "    rf_c.fit(x,y)\n",
    "    performance_criterion.append(accuracy_score(y_test, rf_c.predict(x_test)))\n",
    "\n",
    "plt.bar(criterion, performance_criterion)\n",
    "plt.xlabel(\"Criterion\")\n",
    "plt.ylabel(\"Accuracy Score\")\n",
    "plt.ylim(0.8,1.20)\n",
    "plt.title(\"Tuning criterion\")\n",
    "plt.show()"
   ]
  },
  {
   "cell_type": "code",
   "execution_count": 17,
   "metadata": {},
   "outputs": [
    {
     "data": {
      "image/png": "[encoded data removed]",
      "text/plain": [
       "<Figure size 432x288 with 1 Axes>"
      ]
     },
     "metadata": {
      "needs_background": "light"
     },
     "output_type": "display_data"
    }
   ],
   "source": [
    "#Tuning n_estimators\n",
    "performance_n_estimators = []\n",
    "n_estimators = []\n",
    "for i in range(20):\n",
    "    rf_ne = RandomForestClassifier(random_state=0, n_estimators=10+(i+1))\n",
    "    rf_ne.fit(x,y)\n",
    "    performance_n_estimators.append(f1_score(y_test, rf_ne.predict(x_test), average='micro'))\n",
    "    n_estimators.append(10+(i+1))\n",
    "\n",
    "plt.plot(n_estimators, performance_n_estimators)\n",
    "plt.xlabel(\"n estimators\")\n",
    "plt.ylabel(\"f1 score\")\n",
    "plt.title(\"Tuning N -Estimators\")\n",
    "plt.show()"
   ]
  },
  {
   "cell_type": "code",
   "execution_count": 18,
   "metadata": {},
   "outputs": [
    {
     "data": {
      "image/png": "[encoded data removed]",
      "text/plain": [
       "<Figure size 432x288 with 1 Axes>"
      ]
     },
     "metadata": {
      "needs_background": "light"
     },
     "output_type": "display_data"
    }
   ],
   "source": [
    "#Tuning ccp_alpha\n",
    "performance_ccp_alpha = []\n",
    "ccp_alpha = []\n",
    "for i in range(40):\n",
    "    rf_ccp = RandomForestClassifier(random_state=0, ccp_alpha=(i)/100)\n",
    "    rf_ccp.fit(x,y)\n",
    "    performance_ccp_alpha.append(f1_score(y_test, rf_ccp.predict(x_test), average='micro'))\n",
    "    ccp_alpha.append((i)/100)\n",
    "\n",
    "plt.plot(ccp_alpha, performance_ccp_alpha)\n",
    "plt.xlabel(\"Cost Complexity Pruning\")\n",
    "plt.ylabel(\"f1 score\")\n",
    "plt.title(\"Tuning for ccp_alpha\")\n",
    "plt.show()"
   ]
  },
  {
   "cell_type": "code",
   "execution_count": null,
   "metadata": {},
   "outputs": [
    {
     "data": {
      "image/png": "[encoded data removed]",
      "text/plain": [
       "<Figure size 432x288 with 1 Axes>"
      ]
     },
     "metadata": {
      "needs_background": "light"
     },
     "output_type": "display_data"
    }
   ],
   "source": [
    "#Tuning random_state\n",
    "performance_random_state = []\n",
    "random_state = []\n",
    "for i in range(25):\n",
    "    rf_rs = RandomForestClassifier(random_state=i, max_depth=4, criterion='entropy', n_estimators=19, ccp_alpha=0.0)\n",
    "    rf_rs.fit(x,y)\n",
    "    performance_random_state.append(f1_score(y_test, rf_rs.predict(x_test), average='micro'))\n",
    "    random_state.append(i)\n",
    "\n",
    "plt.plot(random_state, performance_random_state)\n",
    "plt.xlabel(\"Random_State\")\n",
    "plt.ylabel(\"f1 score\")\n",
    "plt.title(\"Tuning random_state\")\n",
    "plt.show()"
   ]
  },
  {
   "cell_type": "code",
   "execution_count": 19,
   "metadata": {},
   "outputs": [
    {
     "name": "stdout",
     "output_type": "stream",
     "text": [
      "Accuracy score: 100.0\n"
     ]
    }
   ],
   "source": [
    "#Tuned Random forest classifier\n",
    "rf_tuned = RandomForestClassifier(random_state=5, max_depth=4, criterion='entropy', n_estimators=19, ccp_alpha=0.0)\n",
    "rf_tuned.fit(x,y)\n",
    "print(\"Accuracy score: \"+str(accuracy_score(y_test, rf_tuned.predict(x_test))*100))"
   ]
  }
 ],
 "metadata": {
  "kernelspec": {
   "display_name": "base",
   "language": "python",
   "name": "python3"
  },
  "language_info": {
   "codemirror_mode": {
    "name": "ipython",
    "version": 3
   },
   "file_extension": ".py",
   "mimetype": "text/x-python",
   "name": "python",
   "nbconvert_exporter": "python",
   "pygments_lexer": "ipython3",
   "version": "3.9.12"
  },
  "orig_nbformat": 4
 },
 "nbformat": 4,
 "nbformat_minor": 2
}
